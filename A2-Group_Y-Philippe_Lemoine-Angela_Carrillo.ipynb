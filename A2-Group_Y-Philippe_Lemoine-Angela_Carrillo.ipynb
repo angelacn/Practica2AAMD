{
 "cells": [
  {
   "cell_type": "markdown",
   "id": "6bbaf913",
   "metadata": {},
   "source": [
    "# Practica A2 AAMD\n"
   ]
  },
  {
   "cell_type": "markdown",
   "id": "8893d73f",
   "metadata": {},
   "source": [
    "## 1. Lectura de les dades\n",
    "Primer de tot, llegirem les dades dels nostres arxius TXT i els guardarem en dataframes."
   ]
  },
  {
   "cell_type": "code",
   "execution_count": 9,
   "id": "7d8b0277",
   "metadata": {},
   "outputs": [
    {
     "data": {
      "text/html": [
       "<div>\n",
       "<style scoped>\n",
       "    .dataframe tbody tr th:only-of-type {\n",
       "        vertical-align: middle;\n",
       "    }\n",
       "\n",
       "    .dataframe tbody tr th {\n",
       "        vertical-align: top;\n",
       "    }\n",
       "\n",
       "    .dataframe thead th {\n",
       "        text-align: right;\n",
       "    }\n",
       "</style>\n",
       "<table border=\"1\" class=\"dataframe\">\n",
       "  <thead>\n",
       "    <tr style=\"text-align: right;\">\n",
       "      <th></th>\n",
       "      <th>x1</th>\n",
       "      <th>x2</th>\n",
       "      <th>x3</th>\n",
       "      <th>x4</th>\n",
       "      <th>class</th>\n",
       "    </tr>\n",
       "  </thead>\n",
       "  <tbody>\n",
       "    <tr>\n",
       "      <th>0</th>\n",
       "      <td>-0.031676</td>\n",
       "      <td>-9.912054</td>\n",
       "      <td>-0.579436</td>\n",
       "      <td>-1.044239</td>\n",
       "      <td>1</td>\n",
       "    </tr>\n",
       "    <tr>\n",
       "      <th>1</th>\n",
       "      <td>0.002526</td>\n",
       "      <td>6.172456</td>\n",
       "      <td>3.288339</td>\n",
       "      <td>-1.006427</td>\n",
       "      <td>5</td>\n",
       "    </tr>\n",
       "    <tr>\n",
       "      <th>2</th>\n",
       "      <td>0.183123</td>\n",
       "      <td>-0.387841</td>\n",
       "      <td>6.236470</td>\n",
       "      <td>-1.691491</td>\n",
       "      <td>2</td>\n",
       "    </tr>\n",
       "    <tr>\n",
       "      <th>3</th>\n",
       "      <td>-0.042262</td>\n",
       "      <td>-1.996272</td>\n",
       "      <td>-1.655302</td>\n",
       "      <td>-2.995311</td>\n",
       "      <td>1</td>\n",
       "    </tr>\n",
       "    <tr>\n",
       "      <th>4</th>\n",
       "      <td>-0.062811</td>\n",
       "      <td>-0.417072</td>\n",
       "      <td>6.657475</td>\n",
       "      <td>-3.633134</td>\n",
       "      <td>4</td>\n",
       "    </tr>\n",
       "  </tbody>\n",
       "</table>\n",
       "</div>"
      ],
      "text/plain": [
       "         x1        x2        x3        x4  class\n",
       "0 -0.031676 -9.912054 -0.579436 -1.044239      1\n",
       "1  0.002526  6.172456  3.288339 -1.006427      5\n",
       "2  0.183123 -0.387841  6.236470 -1.691491      2\n",
       "3 -0.042262 -1.996272 -1.655302 -2.995311      1\n",
       "4 -0.062811 -0.417072  6.657475 -3.633134      4"
      ]
     },
     "execution_count": 9,
     "metadata": {},
     "output_type": "execute_result"
    }
   ],
   "source": [
    "import numpy as np\n",
    "import pandas as pd\n",
    "import matplotlib.pyplot as plt\n",
    "import math\n",
    "import seaborn as sns\n",
    "\n",
    "\n",
    "df_real_og = pd.read_csv('data/A2-real.txt', sep=';')\n",
    "df_synthetic_og = pd.read_csv('data/A2-synthetic.txt', sep=',')\n",
    "\n",
    "datasets = {\n",
    "    \"real\": df_real_og,\n",
    "    \"synthetic\": df_synthetic_og\n",
    "}\n",
    "\n",
    "df_synthetic_og.head()"
   ]
  },
  {
   "cell_type": "markdown",
   "id": "c8194916",
   "metadata": {},
   "source": [
    "## 2. Pre-processament de les dades\n",
    "En aquest punt, ja que ja s'han tractat els dos conjunts de dades per a eliminar outliers, dades no físiques i dades incomplertes, només treurem dels nostres dataframes les columnes que no necessitem. En el cas de les dades reals, seràn les columnes de \"Class\" i \"Location\". En el cas de les dades sintètiques, serà la columna \"class\"."
   ]
  },
  {
   "cell_type": "code",
   "execution_count": 12,
   "id": "8634c358",
   "metadata": {},
   "outputs": [
    {
     "data": {
      "text/html": [
       "<div>\n",
       "<style scoped>\n",
       "    .dataframe tbody tr th:only-of-type {\n",
       "        vertical-align: middle;\n",
       "    }\n",
       "\n",
       "    .dataframe tbody tr th {\n",
       "        vertical-align: top;\n",
       "    }\n",
       "\n",
       "    .dataframe thead th {\n",
       "        text-align: right;\n",
       "    }\n",
       "</style>\n",
       "<table border=\"1\" class=\"dataframe\">\n",
       "  <thead>\n",
       "    <tr style=\"text-align: right;\">\n",
       "      <th></th>\n",
       "      <th>x1</th>\n",
       "      <th>x2</th>\n",
       "      <th>x3</th>\n",
       "      <th>x4</th>\n",
       "    </tr>\n",
       "  </thead>\n",
       "  <tbody>\n",
       "    <tr>\n",
       "      <th>0</th>\n",
       "      <td>-0.031676</td>\n",
       "      <td>-9.912054</td>\n",
       "      <td>-0.579436</td>\n",
       "      <td>-1.044239</td>\n",
       "    </tr>\n",
       "    <tr>\n",
       "      <th>1</th>\n",
       "      <td>0.002526</td>\n",
       "      <td>6.172456</td>\n",
       "      <td>3.288339</td>\n",
       "      <td>-1.006427</td>\n",
       "    </tr>\n",
       "    <tr>\n",
       "      <th>2</th>\n",
       "      <td>0.183123</td>\n",
       "      <td>-0.387841</td>\n",
       "      <td>6.236470</td>\n",
       "      <td>-1.691491</td>\n",
       "    </tr>\n",
       "    <tr>\n",
       "      <th>3</th>\n",
       "      <td>-0.042262</td>\n",
       "      <td>-1.996272</td>\n",
       "      <td>-1.655302</td>\n",
       "      <td>-2.995311</td>\n",
       "    </tr>\n",
       "    <tr>\n",
       "      <th>4</th>\n",
       "      <td>-0.062811</td>\n",
       "      <td>-0.417072</td>\n",
       "      <td>6.657475</td>\n",
       "      <td>-3.633134</td>\n",
       "    </tr>\n",
       "  </tbody>\n",
       "</table>\n",
       "</div>"
      ],
      "text/plain": [
       "         x1        x2        x3        x4\n",
       "0 -0.031676 -9.912054 -0.579436 -1.044239\n",
       "1  0.002526  6.172456  3.288339 -1.006427\n",
       "2  0.183123 -0.387841  6.236470 -1.691491\n",
       "3 -0.042262 -1.996272 -1.655302 -2.995311\n",
       "4 -0.062811 -0.417072  6.657475 -3.633134"
      ]
     },
     "execution_count": 12,
     "metadata": {},
     "output_type": "execute_result"
    }
   ],
   "source": [
    "df_real = df_real_og.drop(columns=[\"Class\", \"Location\"])\n",
    "df_synthetic = df_synthetic_og.drop(columns=[\"class\"])\n",
    "\n",
    "df_synthetic.head()"
   ]
  },
  {
   "cell_type": "markdown",
   "id": "053751eb",
   "metadata": {},
   "source": [
    "## 3. Aplicar tècniques d’aprenentatge no supervisat\n",
    "### • Principal Component Analysis (PCA)\n",
    "Per aquesta tècnica d'aprenentatge haurem de trobar i representar gràficament la projecció PCA en dues dimensions, utilitzant un color diferent per a cada classe, i fer un “scree plot” de la variància\n",
    "acumulada.\n",
    "PCA és una tècnica que redueix la dimensionalitat de les dades. Projecta les dades originals a noves variables \"components principals\" que expliquen la major varianza possible."
   ]
  },
  {
   "cell_type": "code",
   "execution_count": null,
   "id": "63236a8c",
   "metadata": {},
   "outputs": [],
   "source": []
  },
  {
   "cell_type": "markdown",
   "id": "01ecad7f",
   "metadata": {},
   "source": [
    "### • t-distributed Neighbor Stochastic Embedding (t-SNE)\n"
   ]
  },
  {
   "cell_type": "code",
   "execution_count": null,
   "id": "87411a47",
   "metadata": {},
   "outputs": [],
   "source": []
  },
  {
   "cell_type": "markdown",
   "id": "a003cce2",
   "metadata": {},
   "source": [
    "### • k-means\n"
   ]
  },
  {
   "cell_type": "code",
   "execution_count": null,
   "id": "72622932",
   "metadata": {},
   "outputs": [],
   "source": []
  },
  {
   "cell_type": "markdown",
   "id": "6b4cc31a",
   "metadata": {},
   "source": [
    "### • Agglomerative Hierarchical Clustering (AHC)\n"
   ]
  },
  {
   "cell_type": "code",
   "execution_count": null,
   "id": "f938df16",
   "metadata": {},
   "outputs": [],
   "source": []
  },
  {
   "cell_type": "markdown",
   "id": "7f648832",
   "metadata": {},
   "source": [
    "### • Autoencoder\n"
   ]
  },
  {
   "cell_type": "code",
   "execution_count": null,
   "id": "67031f39",
   "metadata": {},
   "outputs": [],
   "source": []
  },
  {
   "cell_type": "markdown",
   "id": "3b06c27a",
   "metadata": {},
   "source": [
    "### • Self-Organizing Maps (SOM)\n"
   ]
  },
  {
   "cell_type": "code",
   "execution_count": null,
   "id": "90b9ed65",
   "metadata": {},
   "outputs": [],
   "source": []
  }
 ],
 "metadata": {
  "kernelspec": {
   "display_name": "Python 3",
   "language": "python",
   "name": "python3"
  },
  "language_info": {
   "codemirror_mode": {
    "name": "ipython",
    "version": 3
   },
   "file_extension": ".py",
   "mimetype": "text/x-python",
   "name": "python",
   "nbconvert_exporter": "python",
   "pygments_lexer": "ipython3",
   "version": "3.12.1"
  }
 },
 "nbformat": 4,
 "nbformat_minor": 5
}
