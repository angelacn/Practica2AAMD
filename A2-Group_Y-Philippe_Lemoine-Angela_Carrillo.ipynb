{
 "cells": [
  {
   "cell_type": "markdown",
   "id": "6bbaf913",
   "metadata": {},
   "source": [
    "# Practica A2 AAMD\n"
   ]
  },
  {
   "cell_type": "markdown",
   "id": "8893d73f",
   "metadata": {},
   "source": [
    "## 1. Lectura de les dades\n",
    "Primer de tot, llegirem les dades dels nostres arxius TXT i els guardarem en dataframes."
   ]
  },
  {
   "cell_type": "code",
   "execution_count": null,
   "id": "7d8b0277",
   "metadata": {},
   "outputs": [
    {
     "data": {
      "text/html": [
       "<div>\n",
       "<style scoped>\n",
       "    .dataframe tbody tr th:only-of-type {\n",
       "        vertical-align: middle;\n",
       "    }\n",
       "\n",
       "    .dataframe tbody tr th {\n",
       "        vertical-align: top;\n",
       "    }\n",
       "\n",
       "    .dataframe thead th {\n",
       "        text-align: right;\n",
       "    }\n",
       "</style>\n",
       "<table border=\"1\" class=\"dataframe\">\n",
       "  <thead>\n",
       "    <tr style=\"text-align: right;\">\n",
       "      <th></th>\n",
       "      <th>BL</th>\n",
       "      <th>BD</th>\n",
       "      <th>FL</th>\n",
       "      <th>BM</th>\n",
       "      <th>S</th>\n",
       "      <th>Location</th>\n",
       "      <th>Class</th>\n",
       "    </tr>\n",
       "  </thead>\n",
       "  <tbody>\n",
       "    <tr>\n",
       "      <th>0</th>\n",
       "      <td>34.5</td>\n",
       "      <td>18.1</td>\n",
       "      <td>187</td>\n",
       "      <td>2900</td>\n",
       "      <td>1</td>\n",
       "      <td>L2</td>\n",
       "      <td>C1</td>\n",
       "    </tr>\n",
       "    <tr>\n",
       "      <th>1</th>\n",
       "      <td>38.8</td>\n",
       "      <td>20.0</td>\n",
       "      <td>190</td>\n",
       "      <td>3950</td>\n",
       "      <td>0</td>\n",
       "      <td>L3</td>\n",
       "      <td>C1</td>\n",
       "    </tr>\n",
       "    <tr>\n",
       "      <th>2</th>\n",
       "      <td>45.1</td>\n",
       "      <td>14.5</td>\n",
       "      <td>207</td>\n",
       "      <td>5050</td>\n",
       "      <td>1</td>\n",
       "      <td>L2</td>\n",
       "      <td>C2</td>\n",
       "    </tr>\n",
       "    <tr>\n",
       "      <th>3</th>\n",
       "      <td>34.6</td>\n",
       "      <td>21.1</td>\n",
       "      <td>198</td>\n",
       "      <td>4400</td>\n",
       "      <td>0</td>\n",
       "      <td>L1</td>\n",
       "      <td>C1</td>\n",
       "    </tr>\n",
       "    <tr>\n",
       "      <th>4</th>\n",
       "      <td>40.6</td>\n",
       "      <td>19.0</td>\n",
       "      <td>199</td>\n",
       "      <td>4000</td>\n",
       "      <td>0</td>\n",
       "      <td>L1</td>\n",
       "      <td>C1</td>\n",
       "    </tr>\n",
       "  </tbody>\n",
       "</table>\n",
       "</div>"
      ],
      "text/plain": [
       "     BL    BD   FL    BM  S Location Class\n",
       "0  34.5  18.1  187  2900  1       L2    C1\n",
       "1  38.8  20.0  190  3950  0       L3    C1\n",
       "2  45.1  14.5  207  5050  1       L2    C2\n",
       "3  34.6  21.1  198  4400  0       L1    C1\n",
       "4  40.6  19.0  199  4000  0       L1    C1"
      ]
     },
     "execution_count": 5,
     "metadata": {},
     "output_type": "execute_result"
    }
   ],
   "source": [
    "import numpy as np\n",
    "import pandas as pd\n",
    "import matplotlib.pyplot as plt\n",
    "import math\n",
    "import seaborn as sns\n",
    "\n",
    "\n",
    "df_real = pd.read_csv('data/A2-real.txt', sep=';')\n",
    "df_synthetic = pd.read_csv('data/A2-synthetic.txt', sep=';')\n",
    "\n",
    "datasets = {\n",
    "    \"real\": df_real,\n",
    "    \"synthetic\": df_synthetic\n",
    "}\n",
    "\n",
    "df_real.head()"
   ]
  },
  {
   "cell_type": "markdown",
   "id": "c8194916",
   "metadata": {},
   "source": [
    "# 2. Pre-processament de les dades\n"
   ]
  }
 ],
 "metadata": {
  "kernelspec": {
   "display_name": "Python 3",
   "language": "python",
   "name": "python3"
  },
  "language_info": {
   "codemirror_mode": {
    "name": "ipython",
    "version": 3
   },
   "file_extension": ".py",
   "mimetype": "text/x-python",
   "name": "python",
   "nbconvert_exporter": "python",
   "pygments_lexer": "ipython3",
   "version": "3.12.1"
  }
 },
 "nbformat": 4,
 "nbformat_minor": 5
}
