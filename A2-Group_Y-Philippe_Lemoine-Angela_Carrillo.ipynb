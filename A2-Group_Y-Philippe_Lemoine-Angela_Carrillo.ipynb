{
 "cells": [
  {
   "cell_type": "markdown",
   "id": "6bbaf913",
   "metadata": {},
   "source": [
    "# Practica A2 AAMD\n"
   ]
  },
  {
   "cell_type": "markdown",
   "id": "8893d73f",
   "metadata": {},
   "source": [
    "## 1. Lectura de les dades\n"
   ]
  }
 ],
 "metadata": {
  "language_info": {
   "name": "python"
  }
 },
 "nbformat": 4,
 "nbformat_minor": 5
}
